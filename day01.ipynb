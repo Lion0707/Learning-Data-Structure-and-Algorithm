{
 "cells": [
  {
   "cell_type": "code",
   "execution_count": 5,
   "metadata": {},
   "outputs": [],
   "source": [
    "##素数检验\n",
    "from math import sqrt\n",
    "n = int(input(\"Please input number\"))\n",
    "for i in range(2, int(sqrt(n))):\n",
    "    if n % i  == 0:\n",
    "        print(f\"{n} is NOT a prime number\")\n",
    "        break\n",
    "    else:\n",
    "        print(f\"{n} is a prime number\")\n"
   ]
  },
  {
   "cell_type": "code",
   "execution_count": 9,
   "metadata": {
    "tags": []
   },
   "outputs": [
    {
     "output_type": "stream",
     "name": "stdout",
     "text": "\n*\n**\n***\n****\n"
    }
   ],
   "source": [
    "for i in range(5):\n",
    "    print('*' * i)"
   ]
  },
  {
   "cell_type": "markdown",
   "metadata": {},
   "source": [
    "###  大O表示法  \n",
    "<font color=blue>算法的时间度量指标</font>   \n",
    "问题的规模影响算法的执行时间  \n",
    "问题规模： 影响算法执行时间的主要因素  \n",
    "\n",
    "<div algin=\"center\"><img src=\"./images/01.png\"/ height=350 width=500></div>"
   ]
  },
  {
   "cell_type": "markdown",
   "metadata": {},
   "source": [
    "### 变位词判断问题  \n",
    "问题描述： 所谓“变位词”是指两个词知键存在<u>组成字母的重新排列</u>关系  \n",
    "heart 和 earth  python 和typhoon\n",
    "\n",
    "**解题目标：**  写一个bool函数，以两个词作为参数，返回着两个词是否为变位词"
   ]
  },
  {
   "cell_type": "code",
   "execution_count": 11,
   "metadata": {},
   "outputs": [],
   "source": [
    "## 解法1： 逐字检查  \n",
    "## 解法思路：  \n",
    "## 将词1中的字符逐个到词2中检查是否存在，存在就打勾标记（防止重复检查）\n",
    "## 如果每个字符都能找到，则两个词是变位词，  \n",
    "## 只要有一个字符找不到，就不是变位词  \n",
    "## 实现打勾标记： 将词2中对于的字符设置为None，由于字符串是不可变类型，需要先复制到列表中\n",
    "\n",
    "def anagramSolution1(s1, s2):\n",
    "    alist = list(s2) #复制s2 到列表alist\n",
    "    pos1 = 0\n",
    "    stillOK = True\n",
    "    while pos1 < len(s1) and stillOK: #循环s1 的每一个字符\n",
    "        pos2 = 0 \n",
    "        found = False\n",
    "        while pos2 < len(s2) and not found:\n",
    "            if s1[pos1]  == alist[pos2]: # 逐个比较s2,找到了 found设置为True\n",
    "                found = True\n",
    "            else:\n",
    "                pos2 += 1 \n",
    "        if found:\n",
    "            alist[pos2] = None #并将列表中相应位置的字符设置为None\n",
    "        else:\n",
    "            stillOK = False #未找到就设置stillOK 为False\n",
    "        pos1 += 1\n",
    "    return   stillOK                             \n",
    "#问题的规模： 词中包含字符的个数n\n",
    "#外层循环遍历S1 的每个字符，将内层循环执行n次\n",
    "#内层循环在s2中查找字符，每个字符的对比次数，分别是1，2，3。。。n中的一个，而且各不相同\n",
    "\n",
    "## 总执行次数是1+2+3+...+n\n",
    "# Σi =n(n+1)/2=(n^2)/2+n/2 -->O(n^2)\n"
   ]
  },
  {
   "cell_type": "code",
   "execution_count": 12,
   "metadata": {},
   "outputs": [
    {
     "output_type": "execute_result",
     "data": {
      "text/plain": "True"
     },
     "metadata": {},
     "execution_count": 12
    }
   ],
   "source": [
    "anagramSolution1('abcd', 'bcda')"
   ]
  },
  {
   "cell_type": "code",
   "execution_count": 13,
   "metadata": {},
   "outputs": [
    {
     "output_type": "execute_result",
     "data": {
      "text/plain": "False"
     },
     "metadata": {},
     "execution_count": 13
    }
   ],
   "source": [
    "anagramSolution1('abcd', 'bcdc')"
   ]
  },
  {
   "cell_type": "code",
   "execution_count": 17,
   "metadata": {},
   "outputs": [],
   "source": [
    "## 解法2 ：排序比较\n",
    "## 思路： 两个字符串都按照字母的顺序进行排序，再逐个比较字符，如果相同则是变位词，存在任何不同就不是变位词\n",
    "\n",
    "def anagramSolution2(s1, s2):\n",
    "    s1_list = list(s1) #转为列表\n",
    "    s2_list = list(s2)\n",
    "\n",
    "    s1_list.sort()#进行排序\n",
    "    s2_list.sort()\n",
    "    if len(s1_list) != len(s2_list):# 长度不一致，则肯定不是变位词（或许不需要这一步？）\n",
    "        return False\n",
    "    else:\n",
    "        return s1_list == s2_list   # 直接进行list的比较，如果相同，则表明list里面的内容是一致的，两个字符串是变位词\n",
    "         "
   ]
  },
  {
   "cell_type": "markdown",
   "metadata": {},
   "source": [
    "```python\n",
    "def anagramSolution2(s1, s2):\n",
    "    s1_list = list(s1) #转为列表\n",
    "    s2_list = list(s2)\n",
    "\n",
    "    s1_list.sort()#进行排序\n",
    "    s2_list.sort()\n",
    "    pos = 0\n",
    "    match = True\n",
    "    while  pos < len(s1) and match:\n",
    "        if s1_list[pos] == s2_list[pos]:\n",
    "            pos += 1\n",
    "        else:\n",
    "            match = False\n",
    "    return match             \n",
    "```   \n",
    "虽然看起来这个解法只有一个循环，最多执行n次，数量级是O(n)  \n",
    "但是再执行循环前的两个sort()方法，并不是没有代价的  \n",
    "不同的排序算法采用不同的解决方案，其运行时间数量级是差不多的O(n^2)或者O(nlogn)，是比循环的O(N)要大的\n"
   ]
  },
  {
   "cell_type": "code",
   "execution_count": 18,
   "metadata": {},
   "outputs": [
    {
     "output_type": "execute_result",
     "data": {
      "text/plain": "True"
     },
     "metadata": {},
     "execution_count": 18
    }
   ],
   "source": [
    "anagramSolution2('python','typhon')"
   ]
  },
  {
   "cell_type": "code",
   "execution_count": 19,
   "metadata": {},
   "outputs": [
    {
     "output_type": "execute_result",
     "data": {
      "text/plain": "False"
     },
     "metadata": {},
     "execution_count": 19
    }
   ],
   "source": [
    "anagramSolution2('abcd','dcbc')"
   ]
  },
  {
   "cell_type": "code",
   "execution_count": 20,
   "metadata": {},
   "outputs": [],
   "source": [
    "## 解法3： 暴力法\n",
    "## 思路： 穷尽所有的可能组合\n",
    "## 将s1中出现的字符进行全帕列，再查看s2中是否数显再全排列的列表中\n",
    "## 最大的困难再与产生s1的全排列  【n个字符进行全排列，产生所有可能的字符串的个数为n！个】\n",
    "\n",
    "## n！的增长速度甚至超过了2^n\n",
    "## 对于20个字符长的词来说 将产生20！ = 2,432,902,008,176,640,000个候选词，\n",
    "## 即使每微妙处理一个候选词，也需要8万年才能处理所有的字符匹配 \n"
   ]
  },
  {
   "cell_type": "code",
   "execution_count": 28,
   "metadata": {},
   "outputs": [],
   "source": [
    "## 解法4： 计数器比较\n",
    "## 思路： 对比两个词中每个字母出现的次数，如果26个字母出现的次数都相同，那么这两个词一定是变位词\n",
    "## 为每一个词设置一个26位的计数器，检查每个词，再计数器中记录每个字母出现的次数\n",
    "## 计数完成后，比较两个计数器是否相同\n",
    "from collections import defaultdict\n",
    "from pprint import pprint\n",
    "def anagramSolution3(s1, s2):\n",
    "    s1_list = list(s1)\n",
    "    s2_list = list(s2)\n",
    "\n",
    "    s1_dict = defaultdict(int)\n",
    "    s2_dict = defaultdict(int)\n",
    "\n",
    "    for item in s1_list:\n",
    "        s1_dict[item] += 1\n",
    "\n",
    "    pprint(s1_dict)\n",
    "    for item in s2_list:\n",
    "        s2_dict[item] += 1\n",
    "    pprint(s2_dict)\n",
    "    return s1_dict == s2_dict            \n"
   ]
  },
  {
   "cell_type": "markdown",
   "metadata": {},
   "source": [
    "```python\n",
    "def anagramSolution3(s1, s2):\n",
    "    c1 = [0] * 26\n",
    "    c2 = [0] * 26\n",
    "\n",
    "    for i in range(len(s1)):  #分别计数\n",
    "        pos = ord(s1[i]) - ord('a') #ord函数会返回一个字符的unicode编码\n",
    "        c1[pos] = c1[pos] + 1\n",
    "\n",
    "    for i in range(len(s2)):\n",
    "        pos = ord(s2[i]) - ord('a')\n",
    "        c2[pos] = c2[pos] + 1 \n",
    "\n",
    "    j = 0\n",
    "    stillOK = True\n",
    "    while j < 26 and stillOK: #计数器比较\n",
    "        if c1[j] == c2[j]:\n",
    "            j = j + 1\n",
    "        else:\n",
    "            stillOK = False\n",
    "    return stillOK                       \n",
    "```   \n",
    "计数比较算法中有三个循环迭代，但是不存在嵌套循环  \n",
    "前两个循环用于对字符串进行计数，操作次数等字符串的长度n  \n",
    "第三个循环用于计数器的比较，操作次数等于计数器的长度26  \n",
    "所以总的操作次数为T(n) = 2n+26,其数量级为O(n)"
   ]
  },
  {
   "cell_type": "code",
   "execution_count": 25,
   "metadata": {
    "tags": []
   },
   "outputs": [
    {
     "output_type": "stream",
     "name": "stdout",
     "text": "defaultdict(<class 'int'>, {'a': 1, 'p': 2, 'l': 1, 'e': 1})\ndefaultdict(<class 'int'>, {'p': 2, 'a': 1, 'l': 1, 'e': 1})\n"
    },
    {
     "output_type": "execute_result",
     "data": {
      "text/plain": "True"
     },
     "metadata": {},
     "execution_count": 25
    }
   ],
   "source": [
    "anagramSolution3('apple','palep')"
   ]
  },
  {
   "cell_type": "code",
   "execution_count": 26,
   "metadata": {
    "tags": []
   },
   "outputs": [
    {
     "output_type": "stream",
     "name": "stdout",
     "text": "defaultdict(<class 'int'>, {'a': 1, 'p': 2, 'l': 1, 'e': 1})\ndefaultdict(<class 'int'>, {'p': 2, 'a': 2, 'l': 1, 'e': 1})\n"
    },
    {
     "output_type": "execute_result",
     "data": {
      "text/plain": "False"
     },
     "metadata": {},
     "execution_count": 26
    }
   ],
   "source": [
    "anagramSolution3('apple','paleap')\n"
   ]
  },
  {
   "cell_type": "markdown",
   "metadata": {},
   "source": [
    "### <font color=red>时间空间之间的取舍</font>  \n",
    "本算法依赖于长度为26的两个计数器，来保存字符计数，这相比较前几个算法需要更多的存储空间  \n",
    "(如果考虑由大字符集构成的词【如中文有上万中不同字符】，可能还需要更多的空间)  \n",
    "\n",
    "牺牲存储空间来换取运行时间"
   ]
  },
  {
   "cell_type": "code",
   "execution_count": null,
   "metadata": {},
   "outputs": [],
   "source": []
  }
 ],
 "metadata": {
  "kernelspec": {
   "display_name": "Python 3",
   "language": "python",
   "name": "python3"
  },
  "language_info": {
   "codemirror_mode": {
    "name": "ipython",
    "version": 3
   },
   "file_extension": ".py",
   "mimetype": "text/x-python",
   "name": "python",
   "nbconvert_exporter": "python",
   "pygments_lexer": "ipython3",
   "version": "3.7.7-final"
  }
 },
 "nbformat": 4,
 "nbformat_minor": 4
}