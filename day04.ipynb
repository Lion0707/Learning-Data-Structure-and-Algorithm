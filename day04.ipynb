{
 "cells": [
  {
   "cell_type": "markdown",
   "metadata": {},
   "source": [
    "####  栈的应用： 十进制转换为二进制    \n",
    "$(233)_{10}$ = (1110 1001)<sub>2</sub>  \n",
    "$(233)_{10}$ = $2*10^2 + 3*10^1 + 3*10^0$    \n",
    "$(11101001)_{2} = 1*2^7+1*2^6+1*2^5+0*2^4+1*2^3+0*2^2+0*2^1+1*2^0$  \n",
    "\n",
    "十进制转为二进制  \n",
    "采用“除以2”这样的方法，得到的余数时从低到高的次序，而输出则是从高到低，  \n",
    "所以需要一个栈来反转次序  \n",
    "\n"
   ]
  },
  {
   "cell_type": "code",
   "execution_count": 1,
   "metadata": {},
   "outputs": [],
   "source": [
    "## 准备一个栈\n",
    "class Stack :\n",
    "    def __init__(self):\n",
    "        self.items = []\n",
    "\n",
    "    def isEmpty(self):\n",
    "        return self.items == []\n",
    "\n",
    "    def push(self, item):\n",
    "        self.items.append(item)\n",
    "\n",
    "    def pop(self):\n",
    "        return self.items.pop()\n",
    "\n",
    "    def peek(self):\n",
    "        return self.items[len(self.items) - 1]\n",
    "\n",
    "    def size(self):\n",
    "        return len(self.items)  "
   ]
  },
  {
   "cell_type": "code",
   "execution_count": 2,
   "metadata": {},
   "outputs": [],
   "source": [
    "def divideBy2(decNumber):\n",
    "    remStack = Stack()\n",
    "\n",
    "    while decNumber > 0:\n",
    "        rem = decNumber % 2 # 对2求余\n",
    "        remStack.push(rem) # 将余数存入栈中\n",
    "        decNumber = decNumber // 2 #整数除\n",
    "\n",
    "    binString = \"\"\n",
    "\n",
    "    while not remStack.isEmpty():\n",
    "        binString += str(remStack.pop()) # 从栈顶取出余数，就是从高到底的顺序了，然后依次加载binstring上\n",
    "\n",
    "    return binString    "
   ]
  },
  {
   "cell_type": "code",
   "execution_count": 3,
   "metadata": {
    "tags": []
   },
   "outputs": [
    {
     "output_type": "stream",
     "name": "stdout",
     "text": "10\n"
    }
   ],
   "source": [
    "print(divideBy2(2))"
   ]
  },
  {
   "cell_type": "code",
   "execution_count": 4,
   "metadata": {
    "tags": []
   },
   "outputs": [
    {
     "output_type": "stream",
     "name": "stdout",
     "text": "100\n"
    }
   ],
   "source": [
    "print(divideBy2(4))"
   ]
  },
  {
   "cell_type": "code",
   "execution_count": 5,
   "metadata": {
    "tags": []
   },
   "outputs": [
    {
     "output_type": "stream",
     "name": "stdout",
     "text": "101010\n"
    }
   ],
   "source": [
    "print(divideBy2(42))"
   ]
  },
  {
   "cell_type": "code",
   "execution_count": 6,
   "metadata": {},
   "outputs": [],
   "source": [
    "## 更多的进制转换😶\n",
    "def baseConverter(decNumber, base):\n",
    "    digits = \"0123456789ABCDEF\"\n",
    "\n",
    "    remStack = Stack()\n",
    "\n",
    "    while decNumber > 0:\n",
    "        rem = decNumber % base\n",
    "        remStack.push(rem)\n",
    "        decNumber = decNumber // base\n",
    "   \n",
    "    newString = \"\"\n",
    "    while not remStack.isEmpty():\n",
    "        newString += digits[remStack.pop()]\n",
    "\n",
    "    return newString"
   ]
  },
  {
   "cell_type": "code",
   "execution_count": 7,
   "metadata": {},
   "outputs": [
    {
     "output_type": "execute_result",
     "data": {
      "text/plain": "'13'"
     },
     "metadata": {},
     "execution_count": 7
    }
   ],
   "source": [
    "baseConverter(11, 8)"
   ]
  },
  {
   "cell_type": "code",
   "execution_count": 12,
   "metadata": {},
   "outputs": [
    {
     "output_type": "execute_result",
     "data": {
      "text/plain": "'19'"
     },
     "metadata": {},
     "execution_count": 12
    }
   ],
   "source": [
    "baseConverter(25, 16)"
   ]
  },
  {
   "cell_type": "code",
   "execution_count": 11,
   "metadata": {},
   "outputs": [
    {
     "output_type": "execute_result",
     "data": {
      "text/plain": "'11001'"
     },
     "metadata": {},
     "execution_count": 11
    }
   ],
   "source": [
    "baseConverter(25, 2)"
   ]
  },
  {
   "cell_type": "code",
   "execution_count": 13,
   "metadata": {},
   "outputs": [
    {
     "output_type": "execute_result",
     "data": {
      "text/plain": "'A'"
     },
     "metadata": {},
     "execution_count": 13
    }
   ],
   "source": [
    "baseConverter(10,16)"
   ]
  },
  {
   "cell_type": "code",
   "execution_count": null,
   "metadata": {},
   "outputs": [],
   "source": []
  }
 ],
 "metadata": {
  "language_info": {
   "codemirror_mode": {
    "name": "ipython",
    "version": 3
   },
   "file_extension": ".py",
   "mimetype": "text/x-python",
   "name": "python",
   "nbconvert_exporter": "python",
   "pygments_lexer": "ipython3",
   "version": "3.7.7-final"
  },
  "orig_nbformat": 2,
  "kernelspec": {
   "name": "python37764bitpyprojectsconda7ea20a0e586949deb947d899365de859",
   "display_name": "Python 3.7.7 64-bit ('Py_projects': conda)"
  }
 },
 "nbformat": 4,
 "nbformat_minor": 2
}