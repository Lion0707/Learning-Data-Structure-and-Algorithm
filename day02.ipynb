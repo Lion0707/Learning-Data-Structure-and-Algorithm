{
 "cells": [
  {
   "cell_type": "markdown",
   "metadata": {},
   "source": [
    "对比list和dict的操作  \n",
    "<img src=\"./images/02.png\" width=600 height=480/>"
   ]
  },
  {
   "cell_type": "code",
   "execution_count": 1,
   "metadata": {},
   "outputs": [],
   "source": [
    "## 4种生产前n个整数的列表，并查看他们之间的性能差异\n",
    "\n",
    "## 第一种 循环连接的方式\n",
    "def test1():\n",
    "    l = []\n",
    "    for i in range(1000):\n",
    "        l = l + [i]\n",
    "        "
   ]
  },
  {
   "cell_type": "code",
   "execution_count": 2,
   "metadata": {},
   "outputs": [],
   "source": [
    "## 第二种 使用append方法来添加列表的元素\n",
    "def test2():\n",
    "    l = []\n",
    "    for i in range(1000):\n",
    "        l.append(i)"
   ]
  },
  {
   "cell_type": "code",
   "execution_count": 3,
   "metadata": {},
   "outputs": [],
   "source": [
    "### 第三种  使用列表推导式来生成列表\n",
    "def test3():\n",
    "    l = [i for i in range(1000)]\n",
    "    "
   ]
  },
  {
   "cell_type": "code",
   "execution_count": 4,
   "metadata": {},
   "outputs": [],
   "source": [
    "##  第四种  使用range函数然后转成列表\n",
    "def test4():\n",
    "    l = list(range(1000))"
   ]
  },
  {
   "cell_type": "markdown",
   "metadata": {},
   "source": [
    "###  测试四种方法的性能"
   ]
  },
  {
   "cell_type": "code",
   "execution_count": 10,
   "metadata": {
    "tags": []
   },
   "outputs": [
    {
     "output_type": "stream",
     "name": "stdout",
     "text": "concat 1.050959  seconds \n\n"
    }
   ],
   "source": [
    "from timeit import Timer\n",
    "t1 = Timer(\"test1()\", \"from __main__ import test1\")\n",
    "print(\"concat %f  seconds \\n\"%t1.timeit(number=1000))"
   ]
  },
  {
   "cell_type": "code",
   "execution_count": 7,
   "metadata": {
    "tags": []
   },
   "outputs": [
    {
     "output_type": "stream",
     "name": "stdout",
     "text": "append 0.058229  seconds \n\n"
    }
   ],
   "source": [
    "t2 = Timer(\"test2()\", \"from __main__ import test2\")\n",
    "print(\"append %f  seconds \\n\"%t2.timeit(number=1000))"
   ]
  },
  {
   "cell_type": "code",
   "execution_count": 8,
   "metadata": {
    "tags": []
   },
   "outputs": [
    {
     "output_type": "stream",
     "name": "stdout",
     "text": "comprehension  0.027671  seconds \n\n"
    }
   ],
   "source": [
    "t3 = Timer(\"test3()\", \"from __main__ import test3\")\n",
    "print(\"comprehension  %f  seconds \\n\"%t3.timeit(number=1000))"
   ]
  },
  {
   "cell_type": "code",
   "execution_count": 11,
   "metadata": {
    "tags": []
   },
   "outputs": [
    {
     "output_type": "stream",
     "name": "stdout",
     "text": "list range 0.011658  seconds \n\n"
    }
   ],
   "source": [
    "t4 = Timer(\"test4()\", \"from __main__ import test4\")\n",
    "print(\"list range %f  seconds \\n\"%t4.timeit(number=1000))"
   ]
  },
  {
   "cell_type": "markdown",
   "metadata": {},
   "source": [
    "LIST基本操作的大O数量级  \n",
    "<img src=\"./images/03.png\" height=400 width=500/>"
   ]
  },
  {
   "cell_type": "code",
   "execution_count": 14,
   "metadata": {},
   "outputs": [
    {
     "output_type": "execute_result",
     "data": {
      "text/plain": "1.6409845000016503"
     },
     "metadata": {},
     "execution_count": 14
    }
   ],
   "source": [
    "### list.pop的计时试验\n",
    "## pop()  从列表末尾移除元素， O(1)  \n",
    "## pop(i) 从列表中部一处元素  O(n)\n",
    "##  从列表中部移除元素的话，要把移除元素后面的元素全部向前挪位复制一遍，\n",
    "##  这种方法能够把证列表按索引取值和赋值的操作很快，达到O(1)\n",
    "\n",
    "\n",
    "## 实验预期： pop()的时间不随list的大小变化，而pop(0)的时间随着list的变大而变长\n",
    "\n",
    "import timeit\n",
    "x = list(range(2000000))\n",
    "popzero = timeit.Timer(\"x.pop(0)\", \"from __main__ import x\")\n",
    "popend = timeit.Timer(\"x.pop()\", \"from __main__ import x\")\n",
    "popzero.timeit(number=1000)\n",
    "\n"
   ]
  },
  {
   "cell_type": "code",
   "execution_count": 15,
   "metadata": {},
   "outputs": [
    {
     "output_type": "execute_result",
     "data": {
      "text/plain": "5.6200000472017564e-05"
     },
     "metadata": {},
     "execution_count": 15
    }
   ],
   "source": [
    "x = list(range(2000000))\n",
    "popend.timeit(number=1000)"
   ]
  },
  {
   "cell_type": "code",
   "execution_count": 21,
   "metadata": {
    "tags": []
   },
   "outputs": [
    {
     "output_type": "stream",
     "name": "stdout",
     "text": "pop(0)                   pop()\n        0.02739                       0.00011\n        0.05393                       0.00007\n        0.07278                       0.00008\n        0.09508                       0.00007\n        0.11569                       0.00006\n        0.15152                       0.00012\n        0.19097                       0.00007\n        0.41393                       0.00006\n        0.74805                       0.00011\n        0.65111                       0.00016\n"
    }
   ],
   "source": [
    "##  通过改变列表的大小来测试两个操作的增长趋势\n",
    "\n",
    "import timeit\n",
    "popzero = timeit.Timer(\"x.pop(0)\", \"from __main__ import x\")\n",
    "popend = timeit.Timer(\"x.pop()\", \"from __main__ import x\")\n",
    "print(\"        pop(0)                   pop()\")\n",
    "for i in range(100000, 1000001,100000):\n",
    "    x = list(range(i))\n",
    "    pt = popend.timeit(number=1000)\n",
    "    x = list(range(i))\n",
    "    pz = popzero.timeit(number=1000)\n",
    "    print(\"%15.5f               %15.5f\"%(pz,pt))"
   ]
  },
  {
   "cell_type": "code",
   "execution_count": 22,
   "metadata": {
    "tags": []
   },
   "outputs": [
    {
     "output_type": "stream",
     "name": "stdout",
     "text": "10000,     0.055,     0.001\n30000,     0.144,     0.001\n50000,     0.236,     0.001\n70000,     0.340,     0.001\n90000,     0.454,     0.001\n110000,     0.539,     0.001\n130000,     0.618,     0.001\n150000,     0.734,     0.001\n170000,     0.883,     0.001\n190000,     0.961,     0.001\n210000,     1.040,     0.001\n230000,     1.113,     0.001\n250000,     1.310,     0.001\n270000,     1.412,     0.001\n290000,     2.149,     0.001\n310000,     2.461,     0.002\n330000,     2.199,     0.001\n350000,     1.745,     0.001\n370000,     1.917,     0.001\n390000,     2.009,     0.001\n410000,     2.096,     0.001\n430000,     2.092,     0.001\n450000,     2.304,     0.001\n470000,     3.474,     0.001\n490000,     3.615,     0.001\n510000,     2.578,     0.001\n530000,     2.642,     0.001\n550000,     2.896,     0.001\n570000,     2.924,     0.001\n590000,     3.359,     0.001\n610000,     4.773,     0.002\n630000,     3.357,     0.001\n650000,     3.382,     0.001\n670000,     3.418,     0.001\n690000,     3.479,     0.001\n710000,     3.751,     0.002\n730000,     5.672,     0.001\n750000,     3.829,     0.001\n770000,     3.904,     0.001\n790000,     3.965,     0.001\n810000,     4.520,     0.002\n830000,     6.125,     0.001\n850000,     4.180,     0.001\n870000,     4.323,     0.001\n890000,     4.472,     0.001\n910000,     4.941,     0.001\n930000,     6.932,     0.001\n950000,     4.815,     0.001\n970000,     4.910,     0.001\n990000,     4.923,     0.002\n"
    }
   ],
   "source": [
    "## dict 数据类型\n",
    "## 字典与列表不同，根据关键码（key)找到数据项，而列表时根据位置（index）\n",
    "## 最常用的取值get和赋值set，其性能是O(1),判断字典中是否存在某一个关键码（使用contains(in))，\n",
    "## 这个性能也是O(1)\n",
    "## copy ---> O(n)\n",
    "## get/set -->O(1)\n",
    "## delete -->O(1)\n",
    "## contains(in) ---> O(1)\n",
    "## iteration ---> O(n)  \n",
    "import timeit \n",
    "import random\n",
    "\n",
    "for i  in range(10000, 1000001, 20000):\n",
    "    t = timeit.Timer(\"random.randrange(%d) in x\"%i,\n",
    "                     \"from __main__ import random,x\")\n",
    "    x = list(range(i))\n",
    "    lst_time = t.timeit(number=1000)\n",
    "    x = {j:None for j in range(i)}\n",
    "    d_time = t.timeit(number=1000)\n",
    "    print(\"%d,%10.3f,%10.3f\"%(i,lst_time, d_time))"
   ]
  },
  {
   "cell_type": "code",
   "execution_count": null,
   "metadata": {},
   "outputs": [],
   "source": []
  }
 ],
 "metadata": {
  "language_info": {
   "codemirror_mode": {
    "name": "ipython",
    "version": 3
   },
   "file_extension": ".py",
   "mimetype": "text/x-python",
   "name": "python",
   "nbconvert_exporter": "python",
   "pygments_lexer": "ipython3",
   "version": "3.7.7-final"
  },
  "orig_nbformat": 2,
  "kernelspec": {
   "name": "python37764bitpyprojectsconda7ea20a0e586949deb947d899365de859",
   "display_name": "Python 3.7.7 64-bit ('Py_projects': conda)"
  }
 },
 "nbformat": 4,
 "nbformat_minor": 2
}